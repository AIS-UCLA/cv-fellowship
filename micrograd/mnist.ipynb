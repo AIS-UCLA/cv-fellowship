{
 "cells": [
  {
   "cell_type": "markdown",
   "metadata": {},
   "source": [
    "# MNIST with micrograd\n",
    "In this notebook, you will implement a 2-layer (784-800-10) fully connected\n",
    "feed-forward neural network for MNIST classification."
   ]
  },
  {
   "cell_type": "code",
   "execution_count": 1,
   "metadata": {},
   "outputs": [],
   "source": [
    "from keras.datasets import mnist\n",
    "import matplotlib.pyplot as plt\n",
    "import numpy as np\n",
    "import micrograd.nn as nn\n",
    "from micrograd.engine import Value\n",
    "%matplotlib inline"
   ]
  },
  {
   "cell_type": "markdown",
   "metadata": {},
   "source": [
    "First, let's setup our dataset. Keras automatically splits the MNIST data into\n",
    "train and test segments for us.\n",
    "\n",
    "The \"x\" variables are the images, while the \"y\" variables are the ground truths."
   ]
  },
  {
   "cell_type": "code",
   "execution_count": 2,
   "metadata": {},
   "outputs": [
    {
     "name": "stdout",
     "output_type": "stream",
     "text": [
      "train_x.shape=(60000, 28, 28)\n",
      "train_y.shape=(60000,)\n",
      "test_x.shape=(10000, 28, 28)\n",
      "test_y.shape=(10000,)\n"
     ]
    }
   ],
   "source": [
    "(train_x, train_y), (test_x, test_y) = mnist.load_data()\n",
    "print(f\"{train_x.shape=}\\n{train_y.shape=}\\n{test_x.shape=}\\n{test_y.shape=}\")"
   ]
  },
  {
   "cell_type": "markdown",
   "metadata": {},
   "source": [
    "Let's visualize one of the data points:"
   ]
  },
  {
   "cell_type": "code",
   "execution_count": 3,
   "metadata": {},
   "outputs": [
    {
     "data": {
      "image/png": "[encoded data removed]",
      "text/plain": [
       "<Figure size 640x480 with 1 Axes>"
      ]
     },
     "metadata": {},
     "output_type": "display_data"
    }
   ],
   "source": [
    "plt.imshow(train_x[0], cmap=\"gray\")\n",
    "plt.title(f\"Ground truth={train_y[0]}\");"
   ]
  },
  {
   "cell_type": "markdown",
   "metadata": {},
   "source": [
    "Now that we have our data loaded, we can initialize our model, using the\n",
    "abstractions we wrote in `micrograd/nn.py` (imported above as `nn`).\n",
    "\n",
    "Remember that we are looking to create a multi-layer perceptron, with one hidden\n",
    "layer of dimension 800, an input layer of 784, and output layer of 10.\n",
    "\n",
    "Since our input dimension is now 784, we need to remember to reshape the input\n",
    "images (and normalize)."
   ]
  },
  {
   "cell_type": "code",
   "execution_count": 18,
   "metadata": {},
   "outputs": [],
   "source": [
    "model = nn.MLP(784, [800, 10])\n",
    "\n",
    "train_x = train_x.reshape(-1, 784) / 255\n",
    "test_x = test_x.reshape(-1, 784) / 255"
   ]
  },
  {
   "cell_type": "markdown",
   "metadata": {},
   "source": [
    "Now, let's try evaluating our model on that input image from above"
   ]
  },
  {
   "cell_type": "code",
   "execution_count": 11,
   "metadata": {},
   "outputs": [
    {
     "data": {
      "text/plain": [
       "[Value(data=58.409956198175855, grad=0),\n",
       " Value(data=153.62140819210796, grad=0),\n",
       " Value(data=-31.466330279316168, grad=0),\n",
       " Value(data=-13.91178727868111, grad=0),\n",
       " Value(data=40.17752498761963, grad=0),\n",
       " Value(data=30.27716193699715, grad=0),\n",
       " Value(data=-35.54012374968764, grad=0),\n",
       " Value(data=16.829416356813923, grad=0),\n",
       " Value(data=-31.541346300369778, grad=0),\n",
       " Value(data=-43.18012989735118, grad=0)]"
      ]
     },
     "execution_count": 11,
     "metadata": {},
     "output_type": "execute_result"
    }
   ],
   "source": [
    "model(train_x[0]/ 255)"
   ]
  },
  {
   "cell_type": "markdown",
   "metadata": {},
   "source": [
    "Now, of course, this returns total garbage, because our model is just running on\n",
    "initialized random values for its weights. First, let's make sure that our model\n",
    "is actually outputting a list of probabilities for each digit. We will use the\n",
    "softmax function to do this:\n",
    "$$\\sigma(z)_i=\\frac{\\exp(z_i)}{\\sum_{c=1}^C\\exp(z_c)}$$\n",
    "Where $C$ is number of classes (10). Implement this function below. Remember,\n",
    "you are working with `Value`s, so you can only use the operations you defined\n",
    "in `micrograd/engine.py`."
   ]
  },
  {
   "cell_type": "code",
   "execution_count": 8,
   "metadata": {},
   "outputs": [],
   "source": [
    "def softmax(z: list[Value], C:int=10) -> list[Value]:\n",
    "  denom = sum(list(map(lambda x: x.exp(), z)))\n",
    "  return list(map(lambda x: x.exp() / denom, z))"
   ]
  },
  {
   "cell_type": "markdown",
   "metadata": {},
   "source": [
    "Now we can try evaluating the model again, with our new softmax function."
   ]
  },
  {
   "cell_type": "code",
   "execution_count": 12,
   "metadata": {},
   "outputs": [
    {
     "data": {
      "text/plain": [
       "[Value(data=4.4688089179865774e-42, grad=0),\n",
       " Value(data=1.0, grad=0),\n",
       " Value(data=4.14396915274404e-81, grad=0),\n",
       " Value(data=1.7428406120965306e-73, grad=0),\n",
       " Value(data=5.39445430448827e-50, grad=0),\n",
       " Value(data=2.705667823222341e-54, grad=0),\n",
       " Value(data=7.05002227723166e-83, grad=0),\n",
       " Value(data=3.9083439588729283e-60, grad=0),\n",
       " Value(data=3.8444787959104507e-81, grad=0),\n",
       " Value(data=3.389830458937218e-86, grad=0)]"
      ]
     },
     "execution_count": 12,
     "metadata": {},
     "output_type": "execute_result"
    }
   ],
   "source": [
    "softmax(model(train_x[0]))"
   ]
  },
  {
   "cell_type": "markdown",
   "metadata": {},
   "source": [
    "This looks a little better, doesn't it? Of course, it's still not an accurate\n",
    "prediction, but at least it is a prediction. Now we need to worry about training\n",
    "the model. \n",
    "\n",
    "In order to train the model, we first need to find a way to measure how wrong\n",
    "its predictions are, that is we need to define our cost (loss) function. We will\n",
    "use cross entropy loss, which is defined by the following equation:\n",
    "$$\\ell (H(x),y)=-\\log\\frac{\\exp(H(x)_{y})}{\\sum_{c=1}^C\\exp(H(x)_c)}$$\n",
    "Where $x$ is the input image, $H$ is our model, $y$ is the ground truth\n",
    "corresponding to $x$, and $C$ is the number of classes (10). But note that this\n",
    "is the same as:\n",
    "$$\\ell (H(x),y)=-\\log(\\sigma(H(x))_y)$$\n",
    "Where $\\sigma$ is softmax from above.\n",
    "\n",
    "Remember that since you are working with `Value`'s you only have access to the\n",
    "operations defined in `micrograd/engine.py`."
   ]
  },
  {
   "cell_type": "code",
   "execution_count": 13,
   "metadata": {},
   "outputs": [],
   "source": [
    "def loss(pred: list[Value], truth: int) -> Value:\n",
    "  return -softmax(pred)[truth]"
   ]
  },
  {
   "cell_type": "markdown",
   "metadata": {},
   "source": [
    "Now that our loss function is defined, finally, we can write the code for\n",
    "gradient descent."
   ]
  },
  {
   "cell_type": "code",
   "execution_count": 21,
   "metadata": {},
   "outputs": [
    {
     "ename": "KeyboardInterrupt",
     "evalue": "",
     "output_type": "error",
     "traceback": [
      "\u001b[1;31m---------------------------------------------------------------------------\u001b[0m",
      "\u001b[1;31mKeyboardInterrupt\u001b[0m                         Traceback (most recent call last)",
      "Cell \u001b[1;32mIn[21], line 8\u001b[0m\n\u001b[0;32m      5\u001b[0m \u001b[39mfor\u001b[39;00m i, indices \u001b[39min\u001b[39;00m \u001b[39menumerate\u001b[39m([rp[BATCH_SIZE \u001b[39m*\u001b[39m i: BATCH_SIZE \u001b[39m*\u001b[39m (i \u001b[39m+\u001b[39m \u001b[39m1\u001b[39m)] \u001b[39mfor\u001b[39;00m i \u001b[39min\u001b[39;00m \u001b[39mrange\u001b[39m(train_x\u001b[39m.\u001b[39mshape[\u001b[39m0\u001b[39m] \u001b[39m/\u001b[39m\u001b[39m/\u001b[39m BATCH_SIZE)]):\n\u001b[0;32m      6\u001b[0m   \u001b[39m# forward\u001b[39;00m\n\u001b[0;32m      7\u001b[0m   x_batch, y_batch \u001b[39m=\u001b[39m train_x[indices], train_y[indices]\n\u001b[1;32m----> 8\u001b[0m   scores \u001b[39m=\u001b[39m \u001b[39mlist\u001b[39;49m(\u001b[39mmap\u001b[39;49m(\u001b[39mlambda\u001b[39;49;00m x: softmax(model(x)), x_batch))\n\u001b[0;32m      9\u001b[0m   losses \u001b[39m=\u001b[39m \u001b[39mlist\u001b[39m(\u001b[39mmap\u001b[39m(\u001b[39mlambda\u001b[39;00m x: loss(x, y_batch), scores))\n\u001b[0;32m     10\u001b[0m   total_loss \u001b[39m=\u001b[39m \u001b[39msum\u001b[39m(losses) \u001b[39m*\u001b[39m (\u001b[39m1.0\u001b[39m \u001b[39m/\u001b[39m \u001b[39mlen\u001b[39m(losses))\n",
      "Cell \u001b[1;32mIn[21], line 8\u001b[0m, in \u001b[0;36m<lambda>\u001b[1;34m(x)\u001b[0m\n\u001b[0;32m      5\u001b[0m \u001b[39mfor\u001b[39;00m i, indices \u001b[39min\u001b[39;00m \u001b[39menumerate\u001b[39m([rp[BATCH_SIZE \u001b[39m*\u001b[39m i: BATCH_SIZE \u001b[39m*\u001b[39m (i \u001b[39m+\u001b[39m \u001b[39m1\u001b[39m)] \u001b[39mfor\u001b[39;00m i \u001b[39min\u001b[39;00m \u001b[39mrange\u001b[39m(train_x\u001b[39m.\u001b[39mshape[\u001b[39m0\u001b[39m] \u001b[39m/\u001b[39m\u001b[39m/\u001b[39m BATCH_SIZE)]):\n\u001b[0;32m      6\u001b[0m   \u001b[39m# forward\u001b[39;00m\n\u001b[0;32m      7\u001b[0m   x_batch, y_batch \u001b[39m=\u001b[39m train_x[indices], train_y[indices]\n\u001b[1;32m----> 8\u001b[0m   scores \u001b[39m=\u001b[39m \u001b[39mlist\u001b[39m(\u001b[39mmap\u001b[39m(\u001b[39mlambda\u001b[39;00m x: softmax(model(x)), x_batch))\n\u001b[0;32m      9\u001b[0m   losses \u001b[39m=\u001b[39m \u001b[39mlist\u001b[39m(\u001b[39mmap\u001b[39m(\u001b[39mlambda\u001b[39;00m x: loss(x, y_batch), scores))\n\u001b[0;32m     10\u001b[0m   total_loss \u001b[39m=\u001b[39m \u001b[39msum\u001b[39m(losses) \u001b[39m*\u001b[39m (\u001b[39m1.0\u001b[39m \u001b[39m/\u001b[39m \u001b[39mlen\u001b[39m(losses))\n",
      "File \u001b[1;32md:\\Documents\\cv-fellowship\\micrograd\\micrograd\\nn.py:59\u001b[0m, in \u001b[0;36mMLP.__call__\u001b[1;34m(self, x)\u001b[0m\n\u001b[0;32m     57\u001b[0m \u001b[39mdef\u001b[39;00m \u001b[39m__call__\u001b[39m(\u001b[39mself\u001b[39m, x: \u001b[39mlist\u001b[39m[Value \u001b[39m|\u001b[39m \u001b[39mfloat\u001b[39m] \u001b[39m|\u001b[39m np\u001b[39m.\u001b[39mndarray) \u001b[39m-\u001b[39m\u001b[39m>\u001b[39m \u001b[39mlist\u001b[39m[Value]:\n\u001b[0;32m     58\u001b[0m   \u001b[39mfor\u001b[39;00m layer \u001b[39min\u001b[39;00m \u001b[39mself\u001b[39m\u001b[39m.\u001b[39mlayers:\n\u001b[1;32m---> 59\u001b[0m     x \u001b[39m=\u001b[39m layer(x)\n\u001b[0;32m     60\u001b[0m   \u001b[39mreturn\u001b[39;00m x\n",
      "File \u001b[1;32md:\\Documents\\cv-fellowship\\micrograd\\micrograd\\nn.py:40\u001b[0m, in \u001b[0;36mLayer.__call__\u001b[1;34m(self, x)\u001b[0m\n\u001b[0;32m     39\u001b[0m \u001b[39mdef\u001b[39;00m \u001b[39m__call__\u001b[39m(\u001b[39mself\u001b[39m, x: \u001b[39mlist\u001b[39m[Value \u001b[39m|\u001b[39m \u001b[39mfloat\u001b[39m]) \u001b[39m-\u001b[39m\u001b[39m>\u001b[39m \u001b[39mlist\u001b[39m[Value]:\n\u001b[1;32m---> 40\u001b[0m   out \u001b[39m=\u001b[39m [n(x) \u001b[39mfor\u001b[39;00m n \u001b[39min\u001b[39;00m \u001b[39mself\u001b[39m\u001b[39m.\u001b[39mneurons]\n\u001b[0;32m     41\u001b[0m   \u001b[39mreturn\u001b[39;00m out[\u001b[39m0\u001b[39m] \u001b[39mif\u001b[39;00m \u001b[39mlen\u001b[39m(out) \u001b[39m==\u001b[39m \u001b[39m1\u001b[39m \u001b[39melse\u001b[39;00m out\n",
      "File \u001b[1;32md:\\Documents\\cv-fellowship\\micrograd\\micrograd\\nn.py:40\u001b[0m, in \u001b[0;36m<listcomp>\u001b[1;34m(.0)\u001b[0m\n\u001b[0;32m     39\u001b[0m \u001b[39mdef\u001b[39;00m \u001b[39m__call__\u001b[39m(\u001b[39mself\u001b[39m, x: \u001b[39mlist\u001b[39m[Value \u001b[39m|\u001b[39m \u001b[39mfloat\u001b[39m]) \u001b[39m-\u001b[39m\u001b[39m>\u001b[39m \u001b[39mlist\u001b[39m[Value]:\n\u001b[1;32m---> 40\u001b[0m   out \u001b[39m=\u001b[39m [n(x) \u001b[39mfor\u001b[39;00m n \u001b[39min\u001b[39;00m \u001b[39mself\u001b[39m\u001b[39m.\u001b[39mneurons]\n\u001b[0;32m     41\u001b[0m   \u001b[39mreturn\u001b[39;00m out[\u001b[39m0\u001b[39m] \u001b[39mif\u001b[39;00m \u001b[39mlen\u001b[39m(out) \u001b[39m==\u001b[39m \u001b[39m1\u001b[39m \u001b[39melse\u001b[39;00m out\n",
      "File \u001b[1;32md:\\Documents\\cv-fellowship\\micrograd\\micrograd\\nn.py:23\u001b[0m, in \u001b[0;36mNeuron.__call__\u001b[1;34m(self, x)\u001b[0m\n\u001b[0;32m     22\u001b[0m \u001b[39mdef\u001b[39;00m \u001b[39m__call__\u001b[39m(\u001b[39mself\u001b[39m, x: Value \u001b[39m|\u001b[39m \u001b[39mfloat\u001b[39m) \u001b[39m-\u001b[39m\u001b[39m>\u001b[39m Value:\n\u001b[1;32m---> 23\u001b[0m   act \u001b[39m=\u001b[39m \u001b[39msum\u001b[39;49m((wi\u001b[39m*\u001b[39;49mxi \u001b[39mfor\u001b[39;49;00m wi,xi \u001b[39min\u001b[39;49;00m \u001b[39mzip\u001b[39;49m(\u001b[39mself\u001b[39;49m\u001b[39m.\u001b[39;49mweights, x)), \u001b[39mself\u001b[39;49m\u001b[39m.\u001b[39;49mbias)\n\u001b[0;32m     24\u001b[0m   \u001b[39mreturn\u001b[39;00m act\u001b[39m.\u001b[39mrelu() \u001b[39mif\u001b[39;00m \u001b[39mself\u001b[39m\u001b[39m.\u001b[39mnon_linear \u001b[39melse\u001b[39;00m act\n",
      "File \u001b[1;32md:\\Documents\\cv-fellowship\\micrograd\\micrograd\\engine.py:15\u001b[0m, in \u001b[0;36mValue.__add__\u001b[1;34m(self, other)\u001b[0m\n\u001b[0;32m     13\u001b[0m \u001b[39mdef\u001b[39;00m \u001b[39m__add__\u001b[39m(\u001b[39mself\u001b[39m, other: Value \u001b[39m|\u001b[39m \u001b[39mfloat\u001b[39m):\n\u001b[0;32m     14\u001b[0m   other: Value \u001b[39m=\u001b[39m other \u001b[39mif\u001b[39;00m \u001b[39misinstance\u001b[39m(other, Value) \u001b[39melse\u001b[39;00m Value(other) \u001b[39m# convert to Value\u001b[39;00m\n\u001b[1;32m---> 15\u001b[0m   out: Value \u001b[39m=\u001b[39m Value(\u001b[39mself\u001b[39;49m\u001b[39m.\u001b[39;49mdata \u001b[39m+\u001b[39;49m other\u001b[39m.\u001b[39;49mdata, (\u001b[39mself\u001b[39;49m, other), \u001b[39m\"\u001b[39;49m\u001b[39m+\u001b[39;49m\u001b[39m\"\u001b[39;49m)\n\u001b[0;32m     17\u001b[0m   \u001b[39m# chain rule!\u001b[39;00m\n\u001b[0;32m     18\u001b[0m   \u001b[39mdef\u001b[39;00m \u001b[39m_backward\u001b[39m():\n",
      "\u001b[1;31mKeyboardInterrupt\u001b[0m: "
     ]
    }
   ],
   "source": [
    "BATCH_SIZE = 100\n",
    "LEARNING_RATE = 0.001\n",
    "for epoch in range(100):\n",
    "  rp = np.random.permutation(train_x.shape[0])\n",
    "  for i, indices in enumerate([rp[BATCH_SIZE * i: BATCH_SIZE * (i + 1)] for i in range(train_x.shape[0] // BATCH_SIZE)]):\n",
    "    # forward\n",
    "    x_batch, y_batch = train_x[indices], train_y[indices]\n",
    "    scores = list(map(lambda x: softmax(model(x)), x_batch))\n",
    "    losses = list(map(lambda x: loss(x, y_batch), scores))\n",
    "    total_loss = sum(losses) * (1.0 / len(losses))\n",
    "\n",
    "    # backward\n",
    "    model.zero_grad()\n",
    "    total_loss.backward()\n",
    "\n",
    "    # update (sgd)\n",
    "    for p in model.parameters():\n",
    "      p.data -= LEARNING_RATE * p.grad\n",
    "\n",
    "    if i % 100 == 0: print(f\"Epoch {epoch}, batch {i}: loss={total_loss}\")"
   ]
  },
  {
   "cell_type": "markdown",
   "metadata": {},
   "source": [
    "Now that our model is trained, let's try running it on some test examples.\n",
    "Try changing `SAMPLE_IDX` to see different examples."
   ]
  },
  {
   "cell_type": "code",
   "execution_count": 19,
   "metadata": {},
   "outputs": [
    {
     "data": {
      "image/png": "[encoded data removed]",
      "text/plain": [
       "<Figure size 640x480 with 1 Axes>"
      ]
     },
     "metadata": {},
     "output_type": "display_data"
    }
   ],
   "source": [
    "SAMPLE_IDX = 0\n",
    "\n",
    "pred = softmax(model(test_x[SAMPLE_IDX]))\n",
    "pred_idx = pred.index(max(pred, key=lambda x: x.data))\n",
    "plt.imshow(test_x[SAMPLE_IDX].reshape(28,28), cmap=\"gray\")\n",
    "plt.title(f\"Ground truth={test_y[SAMPLE_IDX]} Prediction={pred_idx}\");"
   ]
  }
 ],
 "metadata": {
  "kernelspec": {
   "display_name": "cv-fellowship",
   "language": "python",
   "name": "python3"
  },
  "language_info": {
   "codemirror_mode": {
    "name": "ipython",
    "version": 3
   },
   "file_extension": ".py",
   "mimetype": "text/x-python",
   "name": "python",
   "nbconvert_exporter": "python",
   "pygments_lexer": "ipython3",
   "version": "3.10.12"
  },
  "orig_nbformat": 4
 },
 "nbformat": 4,
 "nbformat_minor": 2
}
