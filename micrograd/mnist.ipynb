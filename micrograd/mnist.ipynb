{
 "cells": [
  {
   "cell_type": "markdown",
   "metadata": {},
   "source": [
    "# MNIST with micrograd\n",
    "In this notebook, you will implement a 2-layer (784-800-10) fully connected\n",
    "feed-forward neural network for MNIST classification."
   ]
  },
  {
   "cell_type": "code",
   "execution_count": 3,
   "metadata": {},
   "outputs": [],
   "source": [
    "from keras.datasets import mnist\n",
    "import matplotlib.pyplot as plt\n",
    "import numpy as np\n",
    "import micrograd.nn as nn\n",
    "from micrograd.engine import Value\n",
    "%matplotlib inline"
   ]
  },
  {
   "cell_type": "markdown",
   "metadata": {},
   "source": [
    "First, let's setup our dataset. Keras automatically splits the MNIST data into\n",
    "train and test segments for us.\n",
    "\n",
    "The \"x\" variables are the images, while the \"y\" variables are the ground truths."
   ]
  },
  {
   "cell_type": "code",
   "execution_count": 4,
   "metadata": {},
   "outputs": [
    {
     "name": "stdout",
     "output_type": "stream",
     "text": [
      "train_x.shape=(60000, 28, 28)\n",
      "train_y.shape=(60000,)\n",
      "test_x.shape=(10000, 28, 28)\n",
      "test_y.shape=(10000,)\n"
     ]
    }
   ],
   "source": [
    "(train_x, train_y), (test_x, test_y) = mnist.load_data()\n",
    "print(f\"{train_x.shape=}\\n{train_y.shape=}\\n{test_x.shape=}\\n{test_y.shape=}\")"
   ]
  },
  {
   "cell_type": "markdown",
   "metadata": {},
   "source": [
    "Let's visualize one of the data points:"
   ]
  },
  {
   "cell_type": "code",
   "execution_count": 14,
   "metadata": {},
   "outputs": [
    {
     "data": {
      "image/png": "[encoded data removed]",
      "text/plain": [
       "<Figure size 640x480 with 1 Axes>"
      ]
     },
     "metadata": {},
     "output_type": "display_data"
    }
   ],
   "source": [
    "plt.imshow(train_x[0], cmap=\"gray\")\n",
    "plt.title(f\"Ground truth={train_y[0]}\");"
   ]
  },
  {
   "cell_type": "markdown",
   "metadata": {},
   "source": [
    "Now that we have our data loaded, we can initialize our model, using the\n",
    "abstractions we wrote in `micrograd/nn.py` (imported above as `nn`).\n",
    "\n",
    "Remember that we are looking to create a multi-layer perceptron, with one hidden\n",
    "layer of dimension 800, an input layer of 784, and output layer of 10.\n",
    "\n",
    "Since our input dimension is now 784, we need to remember to reshape the input\n",
    "images (and normalize)."
   ]
  },
  {
   "cell_type": "code",
   "execution_count": 10,
   "metadata": {},
   "outputs": [],
   "source": [
    "model = nn.MLP(784, [800, 10])\n",
    "\n",
    "train_x = train_x.reshape(-1, 784) / 255\n",
    "test_x = test_x.reshape(-1, 784) / 255"
   ]
  },
  {
   "cell_type": "markdown",
   "metadata": {},
   "source": [
    "Now, let's try evaluating our model on that input image from above"
   ]
  },
  {
   "cell_type": "code",
   "execution_count": 11,
   "metadata": {},
   "outputs": [],
   "source": [
    "model(train_x[0])"
   ]
  },
  {
   "cell_type": "markdown",
   "metadata": {},
   "source": [
    "Now, of course, this returns total garbage, because our model is just running on\n",
    "initialized random values for its weights. First, let's make sure that our model\n",
    "is actually outputting a list of probabilities for each digit. We will use the\n",
    "softmax function to do this:\n",
    "$$\\sigma(z)_i=\\frac{\\exp(z_i)}{\\sum_{c=1}^C\\exp(z_c)}$$\n",
    "Where $C$ is number of classes (10). Implement this function below. Remember,\n",
    "you are working with `Value`s, so you can only use the operations you defined\n",
    "in `micrograd/engine.py`."
   ]
  },
  {
   "cell_type": "code",
   "execution_count": null,
   "metadata": {},
   "outputs": [],
   "source": [
    "def softmax(z: list[Value], C:int=10) -> list[Value]:\n",
    "  pass # TODO"
   ]
  },
  {
   "cell_type": "markdown",
   "metadata": {},
   "source": [
    "Now we can try evaluating the model again, with our new softmax function."
   ]
  },
  {
   "cell_type": "code",
   "execution_count": null,
   "metadata": {},
   "outputs": [],
   "source": [
    "softmax(model(train_x[0]))"
   ]
  },
  {
   "cell_type": "markdown",
   "metadata": {},
   "source": [
    "This looks a little better, doesn't it? Of course, it's still not an accurate\n",
    "prediction, but at least it is a prediction. Now we need to worry about training\n",
    "the model. \n",
    "\n",
    "In order to train the model, we first need to find a way to measure how wrong\n",
    "its predictions are, that is we need to define our cost (loss) function. We will\n",
    "use cross entropy loss, which is defined by the following equation:\n",
    "$$\\ell (H(x),y)=-\\log\\frac{\\exp(H(x)_{y})}{\\sum_{c=1}^C\\exp(H(x)_c)}$$\n",
    "Where $x$ is the input image, $H$ is our model, $y$ is the ground truth\n",
    "corresponding to $x$, and $C$ is the number of classes (10). But note that this\n",
    "is the same as:\n",
    "$$\\ell (H(x),y)=-\\log(\\sigma(H(x))_y)$$\n",
    "Where $\\sigma$ is softmax from above.\n",
    "\n",
    "Remember that since you are working with `Value`'s you only have access to the\n",
    "operations defined in `micrograd/engine.py`."
   ]
  },
  {
   "cell_type": "code",
   "execution_count": null,
   "metadata": {},
   "outputs": [],
   "source": [
    "def loss(pred: list[Value], truth: np.ndarray) -> Value:\n",
    "  pass # TODO"
   ]
  },
  {
   "cell_type": "markdown",
   "metadata": {},
   "source": [
    "Now that our loss function is defined, finally, we can write the code for\n",
    "gradient descent."
   ]
  },
  {
   "cell_type": "code",
   "execution_count": null,
   "metadata": {},
   "outputs": [],
   "source": [
    "BATCH_SIZE = 100\n",
    "LEARNING_RATE = 0.001\n",
    "for epoch in range(100):\n",
    "  rp = np.random.permutation(train_x.shape[0])\n",
    "  for i, indices in enumerate([rp[BATCH_SIZE * i: BATCH_SIZE * (i + 1)] for i in range(train_x.shape[0] / BATCH_SIZE)]):\n",
    "    # forward\n",
    "    x_batch, y_batch = train_x[indices], train_y[indices]\n",
    "    scores = list(map(lambda x: softmax(model(x)), x_batch))\n",
    "    losses = list(map(lambda x: loss(x, y_batch), scores))\n",
    "    total_loss = sum(losses) * (1.0 / len(losses))\n",
    "\n",
    "    # backward\n",
    "    model.zero_grad()\n",
    "    total_loss.backward()\n",
    "\n",
    "    # update (sgd)\n",
    "    for p in model.parameters():\n",
    "      p.data -= LEARNING_RATE * p.grad\n",
    "\n",
    "    if i % 100 == 0: print(f\"Epoch {epoch}, batch {i}: loss={total_loss}\")"
   ]
  }
 ],
 "metadata": {
  "kernelspec": {
   "display_name": "cv-fellowship",
   "language": "python",
   "name": "python3"
  },
  "language_info": {
   "codemirror_mode": {
    "name": "ipython",
    "version": 3
   },
   "file_extension": ".py",
   "mimetype": "text/x-python",
   "name": "python",
   "nbconvert_exporter": "python",
   "pygments_lexer": "ipython3",
   "version": "3.10.12"
  },
  "orig_nbformat": 4
 },
 "nbformat": 4,
 "nbformat_minor": 2
}
